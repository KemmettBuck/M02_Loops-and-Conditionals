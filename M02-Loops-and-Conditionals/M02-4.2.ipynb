{
 "cells": [
  {
   "cell_type": "code",
   "execution_count": 1,
   "id": "f890abb8",
   "metadata": {},
   "outputs": [
    {
     "name": "stdout",
     "output_type": "stream",
     "text": [
      "It's a pea.\n"
     ]
    }
   ],
   "source": [
    "# Assign True or False to the variables small and green. Write some if/else statements to print which of these matches those choices: cherry, pea, watermelon, pumpkin.\n",
    "\n",
    "small = True\n",
    "green = True\n",
    "\n",
    "if small:\n",
    "\tif green:\n",
    "\t\tprint(\"It's a pea.\")\n",
    "\telse:\n",
    "\t\tprint(\"It's a cherry.\")\n",
    "else:\n",
    "\tif green:\n",
    "\t\tprint(\"It's a watermelon.\")\n",
    "\telse:\n",
    "\t\tprint(\"It's a pumpkin.\")"
   ]
  },
  {
   "cell_type": "code",
   "execution_count": null,
   "id": "fe4ace46",
   "metadata": {},
   "outputs": [],
   "source": []
  }
 ],
 "metadata": {
  "kernelspec": {
   "display_name": "Python 3 (ipykernel)",
   "language": "python",
   "name": "python3"
  },
  "language_info": {
   "codemirror_mode": {
    "name": "ipython",
    "version": 3
   },
   "file_extension": ".py",
   "mimetype": "text/x-python",
   "name": "python",
   "nbconvert_exporter": "python",
   "pygments_lexer": "ipython3",
   "version": "3.9.12"
  }
 },
 "nbformat": 4,
 "nbformat_minor": 5
}
